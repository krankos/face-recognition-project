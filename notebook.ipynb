{
 "cells": [
  {
   "cell_type": "markdown",
   "metadata": {},
   "source": [
    "# Load Data"
   ]
  },
  {
   "cell_type": "code",
   "execution_count": 4,
   "metadata": {},
   "outputs": [
    {
     "name": "stdout",
     "output_type": "stream",
     "text": [
      "['./dataset/khalil/image00007.jpeg', './dataset/khalil/image00008.jpeg', './dataset/khalil/image00020.jpeg', './dataset/khalil/image00021.jpeg', './dataset/khalil/image00022.jpeg', './dataset/khalil/image00033.jpeg', './dataset/khalil/image00038.jpeg', './dataset/khalil/photo_2022-11-06_14-49-18.jpg', './dataset/khalil/photo_2022-11-06_14-50-06.jpg', './dataset/others/106.jpg', './dataset/others/21.jpg', './dataset/others/29.jpg', './dataset/others/38.jpg', './dataset/others/43.jpg', './dataset/others/57.jpg', './dataset/others/66.jpg', './dataset/others/80.jpg', './dataset/others/86.jpg']\n",
      "['khalil', 'others']\n"
     ]
    }
   ],
   "source": [
    "# images are in ./dataset/khalil and ./dataset/others\n",
    "# labels are the folder names\n",
    "# load the data\n",
    "\n",
    "import os\n",
    "import numpy as np\n",
    "\n",
    "data_path = './dataset'\n",
    "folders = os.listdir(data_path)\n",
    "labels = []\n",
    "images = []\n",
    "\n",
    "for folder in folders:\n",
    "    labels.append(folder)\n",
    "    folder_path = os.path.join(data_path, folder)\n",
    "    for image in os.listdir(folder_path):\n",
    "        image_path = os.path.join(folder_path, image)\n",
    "        images.append(image_path)\n",
    "\n",
    "print(images)\n",
    "print(labels)\n"
   ]
  },
  {
   "cell_type": "code",
   "execution_count": null,
   "metadata": {},
   "outputs": [],
   "source": []
  },
  {
   "cell_type": "code",
   "execution_count": 3,
   "metadata": {},
   "outputs": [
    {
     "data": {
      "text/plain": [
       "array(['khalil', 'others'], dtype='<U6')"
      ]
     },
     "execution_count": 3,
     "metadata": {},
     "output_type": "execute_result"
    }
   ],
   "source": []
  },
  {
   "cell_type": "markdown",
   "metadata": {},
   "source": [
    "# Image Preprocessing"
   ]
  },
  {
   "cell_type": "code",
   "execution_count": null,
   "metadata": {},
   "outputs": [],
   "source": [
    "# detect faces in the image and extract the face\n",
    "\n",
    "import cv2\n",
    "\n"
   ]
  },
  {
   "cell_type": "markdown",
   "metadata": {},
   "source": [
    "## HaaR Cascade Face Detection"
   ]
  },
  {
   "cell_type": "markdown",
   "metadata": {},
   "source": [
    "# Face Recognition"
   ]
  },
  {
   "cell_type": "markdown",
   "metadata": {},
   "source": [
    "## CNN Model"
   ]
  },
  {
   "cell_type": "markdown",
   "metadata": {},
   "source": [
    "### Training"
   ]
  },
  {
   "cell_type": "markdown",
   "metadata": {},
   "source": [
    "### Testing"
   ]
  },
  {
   "cell_type": "markdown",
   "metadata": {},
   "source": [
    "### Evaluation"
   ]
  },
  {
   "cell_type": "markdown",
   "metadata": {},
   "source": [
    "# Deployment"
   ]
  },
  {
   "cell_type": "code",
   "execution_count": null,
   "metadata": {},
   "outputs": [],
   "source": []
  },
  {
   "cell_type": "markdown",
   "metadata": {},
   "source": []
  }
 ],
 "metadata": {
  "kernelspec": {
   "display_name": "Python 3.10.7 64-bit",
   "language": "python",
   "name": "python3"
  },
  "language_info": {
   "codemirror_mode": {
    "name": "ipython",
    "version": 3
   },
   "file_extension": ".py",
   "mimetype": "text/x-python",
   "name": "python",
   "nbconvert_exporter": "python",
   "pygments_lexer": "ipython3",
   "version": "3.10.7"
  },
  "orig_nbformat": 4,
  "vscode": {
   "interpreter": {
    "hash": "e7370f93d1d0cde622a1f8e1c04877d8463912d04d973331ad4851f04de6915a"
   }
  }
 },
 "nbformat": 4,
 "nbformat_minor": 2
}
